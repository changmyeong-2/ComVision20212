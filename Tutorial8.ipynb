{
 "cells": [
  {
   "cell_type": "code",
   "execution_count": 3,
   "id": "f8ce63b6",
   "metadata": {},
   "outputs": [
    {
     "data": {
      "text/plain": [
       "12"
      ]
     },
     "execution_count": 3,
     "metadata": {},
     "output_type": "execute_result"
    }
   ],
   "source": [
    "def myfun(x, y):\n",
    "    return x*y\n",
    "myfun(3, 4)"
   ]
  },
  {
   "cell_type": "code",
   "execution_count": 5,
   "id": "ca2cfe8d",
   "metadata": {},
   "outputs": [
    {
     "data": {
      "text/plain": [
       "21"
      ]
     },
     "execution_count": 5,
     "metadata": {},
     "output_type": "execute_result"
    }
   ],
   "source": [
    "def myfun(x):\n",
    "    return x*3\n",
    "def apply(q,x):\n",
    "    return q(x)\n",
    "apply(myfun, 7)"
   ]
  },
  {
   "cell_type": "code",
   "execution_count": 6,
   "id": "cb296339",
   "metadata": {},
   "outputs": [
    {
     "data": {
      "text/plain": [
       "28"
      ]
     },
     "execution_count": 6,
     "metadata": {},
     "output_type": "execute_result"
    }
   ],
   "source": [
    "apply(lambda z: z* 4, 7)"
   ]
  },
  {
   "cell_type": "code",
   "execution_count": 9,
   "id": "088dc0fb",
   "metadata": {},
   "outputs": [
    {
     "data": {
      "text/plain": [
       "8"
      ]
     },
     "execution_count": 9,
     "metadata": {},
     "output_type": "execute_result"
    }
   ],
   "source": [
    "def myfun(b, c=3, d=\"hello\"):\n",
    "    return b + c\n",
    "myfun(5, 3,\"hello\")\n",
    "myfun(5, 3)\n",
    "myfun(5)"
   ]
  },
  {
   "cell_type": "code",
   "execution_count": 10,
   "id": "b1ad5879",
   "metadata": {},
   "outputs": [
    {
     "data": {
      "text/plain": [
       "1"
      ]
     },
     "execution_count": 10,
     "metadata": {},
     "output_type": "execute_result"
    }
   ],
   "source": [
    "def myfun (a,b,c):\n",
    "    return a-b\n",
    "myfun(2, 1, 43)\n"
   ]
  },
  {
   "cell_type": "code",
   "execution_count": 11,
   "id": "942df631",
   "metadata": {},
   "outputs": [
    {
     "data": {
      "text/plain": [
       "1"
      ]
     },
     "execution_count": 11,
     "metadata": {},
     "output_type": "execute_result"
    }
   ],
   "source": [
    "myfun(c=43, b=1, a=2)"
   ]
  },
  {
   "cell_type": "code",
   "execution_count": 12,
   "id": "d9f799ec",
   "metadata": {},
   "outputs": [
    {
     "data": {
      "text/plain": [
       "1"
      ]
     },
     "execution_count": 12,
     "metadata": {},
     "output_type": "execute_result"
    }
   ],
   "source": [
    "myfun(2, c=43, b=1)"
   ]
  },
  {
   "cell_type": "code",
   "execution_count": null,
   "id": "aae49fd5",
   "metadata": {},
   "outputs": [],
   "source": []
  }
 ],
 "metadata": {
  "kernelspec": {
   "display_name": "Python 3",
   "language": "python",
   "name": "python3"
  },
  "language_info": {
   "codemirror_mode": {
    "name": "ipython",
    "version": 3
   },
   "file_extension": ".py",
   "mimetype": "text/x-python",
   "name": "python",
   "nbconvert_exporter": "python",
   "pygments_lexer": "ipython3",
   "version": "3.9.4"
  }
 },
 "nbformat": 4,
 "nbformat_minor": 5
}
