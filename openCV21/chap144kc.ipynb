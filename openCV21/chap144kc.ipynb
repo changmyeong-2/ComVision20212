{
 "cells": [
  {
   "cell_type": "markdown",
   "metadata": {},
   "source": [
    "# 1.4.4 Smoothing Images"
   ]
  },
  {
   "cell_type": "markdown",
   "metadata": {},
   "source": [
    "## Kernel Convolution"
   ]
  },
  {
   "cell_type": "code",
   "execution_count": 38,
   "metadata": {},
   "outputs": [],
   "source": [
    "import cv2\n",
    "import numpy as np\n",
    "from matplotlib import pyplot as plt"
   ]
  },
  {
   "cell_type": "code",
   "execution_count": 39,
   "metadata": {},
   "outputs": [],
   "source": [
    "l=1\n",
    "kernel = np.array([[0,-1,0],[-1,4,-1],[0,-1,0]],np.float32)"
   ]
  },
  {
   "cell_type": "code",
   "execution_count": 40,
   "metadata": {},
   "outputs": [
    {
     "data": {
      "text/plain": [
       "array([[ 0., -1.,  0.],\n",
       "       [-1.,  4., -1.],\n",
       "       [ 0., -1.,  0.]], dtype=float32)"
      ]
     },
     "execution_count": 40,
     "metadata": {},
     "output_type": "execute_result"
    }
   ],
   "source": [
    "kernel"
   ]
  },
  {
   "cell_type": "code",
   "execution_count": 41,
   "metadata": {},
   "outputs": [],
   "source": [
    "img = np.random.randint(10, size=(12,12))\n",
    "#img = np.ones((10,10),np.float32)"
   ]
  },
  {
   "cell_type": "code",
   "execution_count": 42,
   "metadata": {},
   "outputs": [
    {
     "data": {
      "text/plain": [
       "array([[2, 2, 3, 3, 9, 1, 0, 6, 1, 4, 1, 6],\n",
       "       [2, 2, 4, 9, 2, 2, 0, 5, 7, 3, 3, 3],\n",
       "       [8, 0, 2, 5, 4, 2, 4, 6, 5, 1, 0, 2],\n",
       "       [8, 4, 2, 4, 3, 0, 7, 8, 3, 5, 1, 4],\n",
       "       [7, 4, 3, 7, 0, 2, 1, 1, 4, 5, 3, 0],\n",
       "       [3, 6, 8, 9, 3, 9, 8, 5, 5, 4, 8, 8],\n",
       "       [4, 0, 3, 8, 1, 6, 5, 8, 1, 9, 1, 5],\n",
       "       [4, 2, 1, 4, 7, 0, 8, 1, 6, 7, 8, 1],\n",
       "       [1, 2, 9, 0, 0, 4, 9, 6, 7, 6, 3, 8],\n",
       "       [4, 0, 4, 0, 3, 2, 5, 4, 6, 8, 2, 5],\n",
       "       [4, 7, 7, 1, 9, 7, 2, 9, 2, 9, 8, 3],\n",
       "       [5, 3, 5, 1, 1, 9, 8, 1, 8, 5, 8, 5]])"
      ]
     },
     "execution_count": 42,
     "metadata": {},
     "output_type": "execute_result"
    }
   ],
   "source": [
    "img"
   ]
  },
  {
   "cell_type": "code",
   "execution_count": 43,
   "metadata": {},
   "outputs": [],
   "source": [
    "h,w=img.shape"
   ]
  },
  {
   "cell_type": "code",
   "execution_count": 44,
   "metadata": {},
   "outputs": [
    {
     "name": "stdout",
     "output_type": "stream",
     "text": [
      "12 12\n"
     ]
    }
   ],
   "source": [
    "print(h,w)"
   ]
  },
  {
   "cell_type": "code",
   "execution_count": 45,
   "metadata": {},
   "outputs": [],
   "source": [
    "#[*range(-2,3)]"
   ]
  },
  {
   "cell_type": "code",
   "execution_count": 46,
   "metadata": {},
   "outputs": [
    {
     "name": "stderr",
     "output_type": "stream",
     "text": [
      "<ipython-input-46-6137fcb8b1c2>:1: DeprecationWarning: `np.int` is a deprecated alias for the builtin `int`. To silence this warning, use `int` by itself. Doing this will not modify any behavior and is safe. When replacing `np.int`, you may wish to use e.g. `np.int64` or `np.int32` to specify the precision. If you wish to review your current use, check the release note link for additional information.\n",
      "Deprecated in NumPy 1.20; for more details and guidance: https://numpy.org/devdocs/release/1.20.0-notes.html#deprecations\n",
      "  dst = np.zeros((h,w),np.int)\n"
     ]
    }
   ],
   "source": [
    "dst = np.zeros((h,w),np.int)"
   ]
  },
  {
   "cell_type": "code",
   "execution_count": 47,
   "metadata": {},
   "outputs": [],
   "source": [
    "for i in range(l,h-l):\n",
    "    for j in range(l,w-l):\n",
    "        t=0\n",
    "        for p in range(-l,l+1):\n",
    "            for q in range(-l,l+1):\n",
    "                t += kernel[p+l,q+l]*img[i+p,j+q]\n",
    "        dst[i,j]=t        "
   ]
  },
  {
   "cell_type": "code",
   "execution_count": 48,
   "metadata": {},
   "outputs": [
    {
     "data": {
      "text/plain": [
       "array([[2, 2, 3, 3, 9, 1, 0, 6, 1, 4, 1, 6],\n",
       "       [2, 2, 4, 9, 2, 2, 0, 5, 7, 3, 3, 3],\n",
       "       [8, 0, 2, 5, 4, 2, 4, 6, 5, 1, 0, 2],\n",
       "       [8, 4, 2, 4, 3, 0, 7, 8, 3, 5, 1, 4],\n",
       "       [7, 4, 3, 7, 0, 2, 1, 1, 4, 5, 3, 0],\n",
       "       [3, 6, 8, 9, 3, 9, 8, 5, 5, 4, 8, 8],\n",
       "       [4, 0, 3, 8, 1, 6, 5, 8, 1, 9, 1, 5],\n",
       "       [4, 2, 1, 4, 7, 0, 8, 1, 6, 7, 8, 1],\n",
       "       [1, 2, 9, 0, 0, 4, 9, 6, 7, 6, 3, 8],\n",
       "       [4, 0, 4, 0, 3, 2, 5, 4, 6, 8, 2, 5],\n",
       "       [4, 7, 7, 1, 9, 7, 2, 9, 2, 9, 8, 3],\n",
       "       [5, 3, 5, 1, 1, 9, 8, 1, 8, 5, 8, 5]])"
      ]
     },
     "execution_count": 48,
     "metadata": {},
     "output_type": "execute_result"
    }
   ],
   "source": [
    "img"
   ]
  },
  {
   "cell_type": "code",
   "execution_count": 49,
   "metadata": {},
   "outputs": [
    {
     "data": {
      "text/plain": [
       "array([[  0,   0,   0,   0,   0,   0,   0,   0,   0,   0,   0,   0],\n",
       "       [  0,   0,   0,  22, -16,   3, -11,   1,  14,  -3,   5,   0],\n",
       "       [  0, -16,  -3,   1,   4,  -2,   1,   2,   3,  -9,  -7,   0],\n",
       "       [  0,   2,  -5,  -1,   4, -14,  15,  15, -10,  10,  -8,   0],\n",
       "       [  0,  -4,  -9,  12, -15,  -2, -14, -14,   2,   4,  -2,   0],\n",
       "       [  0,   9,  11,  10,  -7,  17,  12,  -2,   6, -11,  16,   0],\n",
       "       [  0, -15,  -5,  15, -20,   9, -10,  20, -24,  23, -26,   0],\n",
       "       [  0,   1, -14,   0,  23, -25,  17, -24,   8,  -1,  20,   0],\n",
       "       [  0,  -4,  29, -13, -14,   5,  13,   3,   4,  -1, -12,   0],\n",
       "       [  0, -17,   0,  -8,   1, -11,   3, -10,   3,   9, -16,   0],\n",
       "       [  0,  14,  11, -13,  24,   6, -21,  27, -24,  13,  10,   0],\n",
       "       [  0,   0,   0,   0,   0,   0,   0,   0,   0,   0,   0,   0]])"
      ]
     },
     "execution_count": 49,
     "metadata": {},
     "output_type": "execute_result"
    }
   ],
   "source": [
    "dst"
   ]
  },
  {
   "cell_type": "code",
   "execution_count": 50,
   "metadata": {},
   "outputs": [],
   "source": [
    "img = cv2.imread('lena.png', 0)"
   ]
  },
  {
   "cell_type": "code",
   "execution_count": 51,
   "metadata": {},
   "outputs": [],
   "source": [
    "h,w=img.shape"
   ]
  },
  {
   "cell_type": "code",
   "execution_count": 52,
   "metadata": {},
   "outputs": [],
   "source": [
    "dst = np.zeros((h-2*l,w-2*l),np.uint8)"
   ]
  },
  {
   "cell_type": "code",
   "execution_count": 53,
   "metadata": {},
   "outputs": [],
   "source": [
    "for i in range(l,h-l):\n",
    "    for j in range(l,w-l):\n",
    "        t=0\n",
    "        for p in range(-l,l+1):\n",
    "            for q in range(-l,l+1):\n",
    "                t += kernel[p+l,q+l]*img[i+p,j+q]\n",
    "        dst[i-l,j-l]=t "
   ]
  },
  {
   "cell_type": "code",
   "execution_count": 54,
   "metadata": {},
   "outputs": [],
   "source": [
    "cv2.imshow('img',img)\n",
    "cv2.imshow('dst',dst)\n",
    "cv2.waitKey(0)\n",
    "cv2.destroyAllWindows()"
   ]
  },
  {
   "cell_type": "code",
   "execution_count": null,
   "metadata": {},
   "outputs": [],
   "source": []
  },
  {
   "cell_type": "code",
   "execution_count": null,
   "metadata": {},
   "outputs": [],
   "source": []
  }
 ],
 "metadata": {
  "kernelspec": {
   "display_name": "Python 3",
   "language": "python",
   "name": "python3"
  },
  "language_info": {
   "codemirror_mode": {
    "name": "ipython",
    "version": 3
   },
   "file_extension": ".py",
   "mimetype": "text/x-python",
   "name": "python",
   "nbconvert_exporter": "python",
   "pygments_lexer": "ipython3",
   "version": "3.9.4"
  }
 },
 "nbformat": 4,
 "nbformat_minor": 4
}
